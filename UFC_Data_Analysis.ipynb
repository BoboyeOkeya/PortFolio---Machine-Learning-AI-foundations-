{
 "cells": [
  {
   "cell_type": "markdown",
   "id": "7184927f",
   "metadata": {},
   "source": [
    "# Explorative Data Analysis of a UFC Master Dataset\n",
    "\n",
    "### Description\n",
    "I developed this project to explore my explorative data analysis skillset in Python. The dataset is from [Kaggle: The Ultimate UFC Dataset](https://www.kaggle.com/datasets/bloodprashure/ufc-p4p-1-dataset?utm_medium=social&utm_campaign=kaggle-dataset-share&utm_source=twitter).\n",
    "\n",
    "As a UFC fight fan and a trained martial artist, I thought it would be exciting to explore this data to see what I will discover.\n",
    "\n",
    "I have a bunch of thesis questions that I would like to find out:\n",
    "\n",
    "## Things I would like to explore\n",
    "\n",
    "Make nice visualizations with humanoid shapes\n",
    "\n",
    "1. I want to categorize it into male and female\n",
    "2. What is the total number of unique fighters and what is their number win, loss and draw against their total number of fights\n",
    "3. For each unique fighter I want to know how many weight divisions they have fought\n",
    "4. How many fighters lost by disqualification and what was the reason\n",
    "5. I want to know how many submission attempts was required before the submission and what was the control time and the total fight time.\n",
    "6. I would like to know if overtime the amount of takedowns increases since as the fighters become tired, they tend to go for takedowns. Although not all fighters that increase their takedown attempt do it because they are tired. \n",
    "7. the countries versus titles\n",
    "\n"
   ]
  },
  {
   "cell_type": "markdown",
   "id": "79f4e9b6",
   "metadata": {},
   "source": [
    "### 1. The first step is to import all the useful libraries"
   ]
  },
  {
   "cell_type": "code",
   "execution_count": 182,
   "id": "25727a0e",
   "metadata": {},
   "outputs": [],
   "source": [
    "#Import all useful libraries\n",
    "import pandas as pd\n",
    "import matplotlib.pyplot as plt\n",
    "import matplotlib.patches as mpatches\n",
    "\n",
    "import seaborn as sns\n",
    "import numpy as np"
   ]
  },
  {
   "cell_type": "markdown",
   "id": "fc389042",
   "metadata": {},
   "source": [
    "### 2. Then read the dataset into python and view the head of the dataset"
   ]
  },
  {
   "cell_type": "code",
   "execution_count": 183,
   "id": "0a999037",
   "metadata": {},
   "outputs": [
    {
     "name": "stdout",
     "output_type": "stream",
     "text": [
      "Index(['Unnamed: 0', 'Date', 'Event-Code', 'Event-Name', 'Full Name',\n",
      "       'Fighter-2-Name', 'W', 'L', 'D', 'NC',\n",
      "       ...\n",
      "       'Round-5-Takedown-Percent', 'Round-5-Submission-Attempt',\n",
      "       'Round-5-Submission-Reverse', 'Round-5-Control-Time', 'Round-5-Head',\n",
      "       'Round-5-Body', 'Round-5-Leg', 'Round-5-Distance', 'Round-5-Clinch',\n",
      "       'Round-5-Ground'],\n",
      "      dtype='object', length=171)\n"
     ]
    },
    {
     "name": "stderr",
     "output_type": "stream",
     "text": [
      "C:\\Users\\okeya\\AppData\\Local\\Temp\\ipykernel_5252\\1303713221.py:2: DtypeWarning: Columns (20) have mixed types. Specify dtype option on import or set low_memory=False.\n",
      "  ufc_master = pd.read_csv('ufc-master.csv')\n"
     ]
    },
    {
     "data": {
      "text/html": [
       "<div>\n",
       "<style scoped>\n",
       "    .dataframe tbody tr th:only-of-type {\n",
       "        vertical-align: middle;\n",
       "    }\n",
       "\n",
       "    .dataframe tbody tr th {\n",
       "        vertical-align: top;\n",
       "    }\n",
       "\n",
       "    .dataframe thead th {\n",
       "        text-align: right;\n",
       "    }\n",
       "</style>\n",
       "<table border=\"1\" class=\"dataframe\">\n",
       "  <thead>\n",
       "    <tr style=\"text-align: right;\">\n",
       "      <th></th>\n",
       "      <th>Unnamed: 0</th>\n",
       "      <th>Date</th>\n",
       "      <th>Event-Code</th>\n",
       "      <th>Event-Name</th>\n",
       "      <th>Full Name</th>\n",
       "      <th>Fighter-2-Name</th>\n",
       "      <th>W</th>\n",
       "      <th>L</th>\n",
       "      <th>D</th>\n",
       "      <th>NC</th>\n",
       "      <th>...</th>\n",
       "      <th>Round-5-Takedown-Percent</th>\n",
       "      <th>Round-5-Submission-Attempt</th>\n",
       "      <th>Round-5-Submission-Reverse</th>\n",
       "      <th>Round-5-Control-Time</th>\n",
       "      <th>Round-5-Head</th>\n",
       "      <th>Round-5-Body</th>\n",
       "      <th>Round-5-Leg</th>\n",
       "      <th>Round-5-Distance</th>\n",
       "      <th>Round-5-Clinch</th>\n",
       "      <th>Round-5-Ground</th>\n",
       "    </tr>\n",
       "  </thead>\n",
       "  <tbody>\n",
       "    <tr>\n",
       "      <th>0</th>\n",
       "      <td>0</td>\n",
       "      <td>2021-03-06 00:00:00</td>\n",
       "      <td>6e2b1d631832921d</td>\n",
       "      <td>UFC 259: Blachowicz vs. Adesanya</td>\n",
       "      <td>Aalon Cruz</td>\n",
       "      <td>Uros Medic</td>\n",
       "      <td>0</td>\n",
       "      <td>1</td>\n",
       "      <td>0</td>\n",
       "      <td>0</td>\n",
       "      <td>...</td>\n",
       "      <td>0</td>\n",
       "      <td>0</td>\n",
       "      <td>0</td>\n",
       "      <td>NaN</td>\n",
       "      <td>NaN</td>\n",
       "      <td>NaN</td>\n",
       "      <td>NaN</td>\n",
       "      <td>NaN</td>\n",
       "      <td>NaN</td>\n",
       "      <td>NaN</td>\n",
       "    </tr>\n",
       "    <tr>\n",
       "      <th>1</th>\n",
       "      <td>1</td>\n",
       "      <td>2020-02-29 00:00:00</td>\n",
       "      <td>fc9a9559a05f2704</td>\n",
       "      <td>UFC Fight Night: Benavidez vs. Figueiredo</td>\n",
       "      <td>Aalon Cruz</td>\n",
       "      <td>Spike Carlyle</td>\n",
       "      <td>0</td>\n",
       "      <td>1</td>\n",
       "      <td>0</td>\n",
       "      <td>0</td>\n",
       "      <td>...</td>\n",
       "      <td>0</td>\n",
       "      <td>0</td>\n",
       "      <td>0</td>\n",
       "      <td>NaN</td>\n",
       "      <td>NaN</td>\n",
       "      <td>NaN</td>\n",
       "      <td>NaN</td>\n",
       "      <td>NaN</td>\n",
       "      <td>NaN</td>\n",
       "      <td>NaN</td>\n",
       "    </tr>\n",
       "    <tr>\n",
       "      <th>2</th>\n",
       "      <td>2</td>\n",
       "      <td>2000-11-17 00:00:00</td>\n",
       "      <td>da6dfd09cca1d705</td>\n",
       "      <td>UFC 28: High Stakes</td>\n",
       "      <td>Aaron Brink</td>\n",
       "      <td>Andrei Arlovski</td>\n",
       "      <td>0</td>\n",
       "      <td>1</td>\n",
       "      <td>0</td>\n",
       "      <td>0</td>\n",
       "      <td>...</td>\n",
       "      <td>0</td>\n",
       "      <td>0</td>\n",
       "      <td>0</td>\n",
       "      <td>NaN</td>\n",
       "      <td>NaN</td>\n",
       "      <td>NaN</td>\n",
       "      <td>NaN</td>\n",
       "      <td>NaN</td>\n",
       "      <td>NaN</td>\n",
       "      <td>NaN</td>\n",
       "    </tr>\n",
       "    <tr>\n",
       "      <th>3</th>\n",
       "      <td>3</td>\n",
       "      <td>2014-08-23 00:00:00</td>\n",
       "      <td>063649e21bc9d6d5</td>\n",
       "      <td>UFC Fight Night: Henderson vs Dos Anjos</td>\n",
       "      <td>Aaron Phillips</td>\n",
       "      <td>Matt Hobar</td>\n",
       "      <td>0</td>\n",
       "      <td>1</td>\n",
       "      <td>0</td>\n",
       "      <td>0</td>\n",
       "      <td>...</td>\n",
       "      <td>0</td>\n",
       "      <td>0</td>\n",
       "      <td>0</td>\n",
       "      <td>NaN</td>\n",
       "      <td>NaN</td>\n",
       "      <td>NaN</td>\n",
       "      <td>NaN</td>\n",
       "      <td>NaN</td>\n",
       "      <td>NaN</td>\n",
       "      <td>NaN</td>\n",
       "    </tr>\n",
       "    <tr>\n",
       "      <th>4</th>\n",
       "      <td>4</td>\n",
       "      <td>2020-07-15 00:00:00</td>\n",
       "      <td>18f5669a92e99d92</td>\n",
       "      <td>UFC Fight Night: Kattar vs. Ige</td>\n",
       "      <td>Aaron Phillips</td>\n",
       "      <td>Jack Shore</td>\n",
       "      <td>0</td>\n",
       "      <td>1</td>\n",
       "      <td>0</td>\n",
       "      <td>0</td>\n",
       "      <td>...</td>\n",
       "      <td>0</td>\n",
       "      <td>0</td>\n",
       "      <td>0</td>\n",
       "      <td>NaN</td>\n",
       "      <td>NaN</td>\n",
       "      <td>NaN</td>\n",
       "      <td>NaN</td>\n",
       "      <td>NaN</td>\n",
       "      <td>NaN</td>\n",
       "      <td>NaN</td>\n",
       "    </tr>\n",
       "  </tbody>\n",
       "</table>\n",
       "<p>5 rows × 171 columns</p>\n",
       "</div>"
      ],
      "text/plain": [
       "   Unnamed: 0                 Date        Event-Code  \\\n",
       "0           0  2021-03-06 00:00:00  6e2b1d631832921d   \n",
       "1           1  2020-02-29 00:00:00  fc9a9559a05f2704   \n",
       "2           2  2000-11-17 00:00:00  da6dfd09cca1d705   \n",
       "3           3  2014-08-23 00:00:00  063649e21bc9d6d5   \n",
       "4           4  2020-07-15 00:00:00  18f5669a92e99d92   \n",
       "\n",
       "                                  Event-Name       Full Name   Fighter-2-Name  \\\n",
       "0           UFC 259: Blachowicz vs. Adesanya      Aalon Cruz       Uros Medic   \n",
       "1  UFC Fight Night: Benavidez vs. Figueiredo      Aalon Cruz    Spike Carlyle   \n",
       "2                        UFC 28: High Stakes     Aaron Brink  Andrei Arlovski   \n",
       "3    UFC Fight Night: Henderson vs Dos Anjos  Aaron Phillips       Matt Hobar   \n",
       "4            UFC Fight Night: Kattar vs. Ige  Aaron Phillips       Jack Shore   \n",
       "\n",
       "   W  L  D  NC  ...  Round-5-Takedown-Percent  Round-5-Submission-Attempt  \\\n",
       "0  0  1  0   0  ...                         0                           0   \n",
       "1  0  1  0   0  ...                         0                           0   \n",
       "2  0  1  0   0  ...                         0                           0   \n",
       "3  0  1  0   0  ...                         0                           0   \n",
       "4  0  1  0   0  ...                         0                           0   \n",
       "\n",
       "   Round-5-Submission-Reverse  Round-5-Control-Time  Round-5-Head  \\\n",
       "0                           0                   NaN           NaN   \n",
       "1                           0                   NaN           NaN   \n",
       "2                           0                   NaN           NaN   \n",
       "3                           0                   NaN           NaN   \n",
       "4                           0                   NaN           NaN   \n",
       "\n",
       "   Round-5-Body  Round-5-Leg  Round-5-Distance  Round-5-Clinch  Round-5-Ground  \n",
       "0           NaN          NaN               NaN             NaN             NaN  \n",
       "1           NaN          NaN               NaN             NaN             NaN  \n",
       "2           NaN          NaN               NaN             NaN             NaN  \n",
       "3           NaN          NaN               NaN             NaN             NaN  \n",
       "4           NaN          NaN               NaN             NaN             NaN  \n",
       "\n",
       "[5 rows x 171 columns]"
      ]
     },
     "execution_count": 183,
     "metadata": {},
     "output_type": "execute_result"
    }
   ],
   "source": [
    "#read the csv file into pandas dataframe\n",
    "ufc_master = pd.read_csv('ufc-master.csv')\n",
    "\n",
    "#view the columns that are in the datafrane\n",
    "print(ufc_master.columns)\n",
    "\n",
    "#View the first 5 rows of the dataset\n",
    "ufc_master.head()"
   ]
  },
  {
   "cell_type": "markdown",
   "id": "28033d84",
   "metadata": {},
   "source": [
    "### 3. Drop some columns that are irrelevant to the thesis questions.\n",
    "\n",
    "I will be dropping the following columns from the ufc_master dataframe: \n",
    "event code, event name,fight city, fight state,ppv sales, age-days, judge-k-name,judge-k-score,Fight-Bonus, performance-Bonus, KO-Bonus, submission-Bonus, Fighter-Active-Status, Fight-City, Fight-State, Fight-Country, PPV-Sales. "
   ]
  },
  {
   "cell_type": "code",
   "execution_count": 184,
   "id": "5111bd00",
   "metadata": {},
   "outputs": [
    {
     "name": "stdout",
     "output_type": "stream",
     "text": [
      "Index(['Unnamed: 0', 'Date', 'Event-Code', 'Event-Name', 'Full Name',\n",
      "       'Fighter-2-Name', 'W', 'L', 'D', 'NC',\n",
      "       ...\n",
      "       'Round-5-Takedown-Percent', 'Round-5-Submission-Attempt',\n",
      "       'Round-5-Submission-Reverse', 'Round-5-Control-Time', 'Round-5-Head',\n",
      "       'Round-5-Body', 'Round-5-Leg', 'Round-5-Distance', 'Round-5-Clinch',\n",
      "       'Round-5-Ground'],\n",
      "      dtype='object', length=171)\n",
      "Index(['Unnamed: 0', 'Date', 'Full Name', 'Fighter-2-Name', 'W', 'L', 'D',\n",
      "       'NC', 'KO/TKO', 'Submission',\n",
      "       ...\n",
      "       'Round-5-Takedown-Percent', 'Round-5-Submission-Attempt',\n",
      "       'Round-5-Submission-Reverse', 'Round-5-Control-Time', 'Round-5-Head',\n",
      "       'Round-5-Body', 'Round-5-Leg', 'Round-5-Distance', 'Round-5-Clinch',\n",
      "       'Round-5-Ground'],\n",
      "      dtype='object', length=154)\n"
     ]
    }
   ],
   "source": [
    "columns_to_drop = ['Event-Code','Event-Name','Judge-1-Name','Judge-1-Score','Judge-2-Name','Judge-2-Score','Judge-3-Name','Judge-3-Score'\\\n",
    "                   ,'Fight-Bonus','Performance-Bonus','KO-Bonus','Submission-Bonus'\\\n",
    "                   ,'Fighter-Active-Status','Fight-City','Fight-State','Fight-Country'\\\n",
    "                   ,'PPV-Sales']\n",
    "print((ufc_master.columns))\n",
    "ufc_master.drop(columns_to_drop,axis=1,inplace=True)\n",
    "print((ufc_master.columns))\n",
    "#WOmen weight classes = ['Featherweight', 'bantamweight','flyweight','straweight']\n",
    "#Men = ['Heavyweight','light heavyweight','middleweight','welterweight','lightweight', 'featherweight','bantamweight','Flyweight']\n"
   ]
  },
  {
   "cell_type": "markdown",
   "id": "fbcd62d1",
   "metadata": {},
   "source": [
    "### 4. Next, rename some of the dataframe's column name for easy access"
   ]
  },
  {
   "cell_type": "code",
   "execution_count": 185,
   "id": "3a668028",
   "metadata": {},
   "outputs": [
    {
     "name": "stdout",
     "output_type": "stream",
     "text": [
      "   Index                 Date       Full_Name        Fighter_2  W  L  D  NC  \\\n",
      "0      0  2021-03-06 00:00:00      Aalon Cruz       Uros Medic  0  1  0   0   \n",
      "1      1  2020-02-29 00:00:00      Aalon Cruz    Spike Carlyle  0  1  0   0   \n",
      "2      2  2000-11-17 00:00:00     Aaron Brink  Andrei Arlovski  0  1  0   0   \n",
      "3      3  2014-08-23 00:00:00  Aaron Phillips       Matt Hobar  0  1  0   0   \n",
      "4      4  2020-07-15 00:00:00  Aaron Phillips       Jack Shore  0  1  0   0   \n",
      "\n",
      "   KO_TKO  Submission  ...  Round-5-Takedown-Percent  \\\n",
      "0       1           0  ...                         0   \n",
      "1       1           0  ...                         0   \n",
      "2       0           1  ...                         0   \n",
      "3       0           0  ...                         0   \n",
      "4       0           1  ...                         0   \n",
      "\n",
      "   Round-5-Submission-Attempt  Round-5-Submission-Reverse  \\\n",
      "0                           0                           0   \n",
      "1                           0                           0   \n",
      "2                           0                           0   \n",
      "3                           0                           0   \n",
      "4                           0                           0   \n",
      "\n",
      "   Round-5-Control-Time  Round-5-Head  Round-5-Body  Round-5-Leg  \\\n",
      "0                   NaN           NaN           NaN          NaN   \n",
      "1                   NaN           NaN           NaN          NaN   \n",
      "2                   NaN           NaN           NaN          NaN   \n",
      "3                   NaN           NaN           NaN          NaN   \n",
      "4                   NaN           NaN           NaN          NaN   \n",
      "\n",
      "   Round-5-Distance Round-5-Clinch Round-5-Ground  \n",
      "0               NaN            NaN            NaN  \n",
      "1               NaN            NaN            NaN  \n",
      "2               NaN            NaN            NaN  \n",
      "3               NaN            NaN            NaN  \n",
      "4               NaN            NaN            NaN  \n",
      "\n",
      "[5 rows x 154 columns]\n"
     ]
    },
    {
     "data": {
      "text/plain": [
       "Index(['Index', 'Date', 'Full_Name', 'Fighter_2', 'W', 'L', 'D', 'NC',\n",
       "       'KO_TKO', 'Submission',\n",
       "       ...\n",
       "       'Round-5-Takedown-Percent', 'Round-5-Submission-Attempt',\n",
       "       'Round-5-Submission-Reverse', 'Round-5-Control-Time', 'Round-5-Head',\n",
       "       'Round-5-Body', 'Round-5-Leg', 'Round-5-Distance', 'Round-5-Clinch',\n",
       "       'Round-5-Ground'],\n",
       "      dtype='object', length=154)"
      ]
     },
     "execution_count": 185,
     "metadata": {},
     "output_type": "execute_result"
    }
   ],
   "source": [
    "columns_to_rename = {'Unnamed: 0':'Index','Women\\'s-Bout':'Women_Category','Full Name':'Full_Name','Fighter-2-Name':'Fighter_2'\\\n",
    "                    ,'KO/TKO':'KO_TKO','TKO - Doctor\\'s Stoppage':'TKO_Doctor_Stoppage'}\n",
    "ufc_master.rename(columns=columns_to_rename,inplace=True)\n",
    "# ufc_master.set_index('Index',inplace=True)\n",
    "print(ufc_master.head())\n",
    "ufc_master.columns"
   ]
  },
  {
   "cell_type": "markdown",
   "id": "b21c98a6",
   "metadata": {},
   "source": [
    "### 5. Now, we need to seperate the fighters into the male and female categories\n",
    "\n",
    "The Women_Category column is useful for this process.\n",
    "\n",
    "Please note: I had already performed the process of seperating the fights into the male and female categories. Then I realized that there were some female names in the male category; upon close inspection, I discovered that some of the data for the 'Women_Category' column had been mislabelled at rows [444, 2349, 2352, 7066, 7098, 10388]. So, I had to come back to fix them at the begining of the process of seperating the male and female fights."
   ]
  },
  {
   "cell_type": "code",
   "execution_count": 186,
   "id": "529c0a40",
   "metadata": {},
   "outputs": [
    {
     "name": "stdout",
     "output_type": "stream",
     "text": [
      "1994 2021\n",
      "<class 'pandas.core.series.Series'>\n",
      "RangeIndex: 12156 entries, 0 to 12155\n",
      "Series name: Full_Name\n",
      "Non-Null Count  Dtype \n",
      "--------------  ----- \n",
      "12156 non-null  object\n",
      "dtypes: object(1)\n",
      "memory usage: 95.1+ KB\n",
      "None\n",
      "11186\n",
      "970\n",
      "12156\n"
     ]
    },
    {
     "data": {
      "image/png": "[encoded data removed]",
      "text/plain": [
       "<Figure size 432x288 with 1 Axes>"
      ]
     },
     "metadata": {
      "needs_background": "light"
     },
     "output_type": "display_data"
    },
    {
     "name": "stdout",
     "output_type": "stream",
     "text": [
      "Between 1994-2021, Male fights account for 92.02% of the whole UFC Fights, while female fights account for only 7.98% \n"
     ]
    },
    {
     "data": {
      "text/plain": [
       "<Figure size 432x288 with 0 Axes>"
      ]
     },
     "metadata": {},
     "output_type": "display_data"
    }
   ],
   "source": [
    "#Fixing the mislabelled data\n",
    "row_mislabel = [444, 2349, 2352, 7066, 7098, 10388] \n",
    "for i in row_mislabel:\n",
    "    ufc_master.at[i, 'Women_Category']=1\n",
    "\n",
    "#Convert date to datetime using pandas\n",
    "ufc_master['Date'] = pd.to_datetime(ufc_master['Date'])\n",
    "# print(ufc_master.Date.dt.day.head())\n",
    "# print(ufc_master.Date.dt.month.head())\n",
    "ufc_master['Year'] = ufc_master['Date'].dt.year\n",
    "min_date = ufc_master['Date'].dt.year.min()\n",
    "max_date = ufc_master['Date'].dt.year.max()\n",
    "\n",
    "print(min_date,max_date)\n",
    "    \n",
    "    \n",
    "#Now,Let's Seperate the male and female fights\n",
    "male_fights = ufc_master[ufc_master['Women_Category'] ==0]\n",
    "female_fights = ufc_master[ufc_master['Women_Category'] ==1]\n",
    "print(ufc_master['Full_Name'].info())\n",
    "print(len(male_fights))\n",
    "print(len(female_fights))\n",
    "print(len(ufc_master))\n",
    "\n",
    "\n",
    "#Visualize the proportion of male fights versus female fights\n",
    "sns.countplot(data=ufc_master,x='Women_Category')\n",
    "plt.title(f'The number of fights per gender between {min_date}-{max_date}')\n",
    "blue_patch = mpatches.Patch(color='xkcd:azure', label='0: Men')\n",
    "orange_patch = mpatches.Patch(color='orange', label='1: Women')\n",
    "plt.ylabel('Total Number of Fights')\n",
    "plt.xlabel('Gender')\n",
    "plt.legend(handles=[blue_patch, orange_patch])\n",
    "# plt.savefig('Count_of_Male_Fights_And_Female_Fights.png')\n",
    "plt.show()\n",
    "plt.clf()\n",
    "\n",
    "\n",
    "print(f'Between {min_date}-{max_date}, Male fights account for {round(100*len(male_fights)/len(ufc_master),3)}% of the whole UFC Fights, while female fights account for only {round(100*len(female_fights)/len(ufc_master),3)}% ')"
   ]
  },
  {
   "cell_type": "raw",
   "id": "10079026",
   "metadata": {},
   "source": [
    "### The code used to detect the mislabelled data\n",
    "\n",
    "I have fixed the mislabelled parts, so kindly ignore this part of the code, which is why I commented it out\n",
    "\n",
    "The code used to detect the mislabelled data\n",
    "full_name_unique = ufc_master['Full_Name'].unique()\n",
    "fighter_2_unique = ufc_master['Fighter_2'].unique()\n",
    "\n",
    "#combine both in a set\n",
    "set1 = set(full_name_unique)\n",
    "set2 = set(fighter_2_unique)\n",
    "set_union = set1.union(set2)\n",
    "print(len(set1))\n",
    "print(len(set2))\n",
    "print(len(set_union))\n",
    "\n",
    "\n",
    "male_fighters_unique1 = male_fights['Full_Name'].unique()\n",
    "male_fighters_unique2 = male_fights['Fighter_2'].unique()\n",
    "\n",
    "set1_male = set(male_fighters_unique1)\n",
    "set2_male = set(male_fighters_unique2)\n",
    "set_male = set1_male.union(set2_male)\n",
    "print(len(set2_male))\n",
    "\n",
    "female_fighters_unique1 = female_fights['Full_Name'].unique()\n",
    "female_fighters_unique2 = female_fights['Fighter_2'].unique()\n",
    "\n",
    "set1_female = set(female_fighters_unique1)\n",
    "set2_female = set(female_fighters_unique2)\n",
    "set_female = set1_female.union(set2_female)\n",
    "print(len(set2_female))\n",
    "\n",
    "set_male_female = set_male.intersection(set_female)\n",
    "for name in set_male_female:\n",
    "    if(name in set_female):\n",
    "        print(name)\n",
    "#print((set_male_female))\n",
    "\n",
    "\n",
    "extract = ufc_master[ufc_master['Index']==10388]\n",
    "print(extract)\n",
    "print(extract.Women_Category)\n",
    "#The following row has its women_Category mislabelled, normally 0 is for male and 1 is for female\n",
    "\n",
    "#Sarh Moras  = [444,10388]\n",
    "#Leslie Smith [2349,7066]\n",
    "#Lina Lansberg [2352,7098]\n",
    "#Cristiane Justino [2349,2352,7066,7098]\n",
    "#Alexis Dufresne [444,10388]\n",
    "#Some of the women_category has been mislabelled as 0, they should be 1\n",
    "mislabel_women_category = set([444,10388,2349,7066,2352,7098,2349,2352,7066,7098,444,10388])\n",
    "mislabel_women_category"
   ]
  },
  {
   "cell_type": "code",
   "execution_count": 187,
   "id": "edc05554",
   "metadata": {},
   "outputs": [
    {
     "data": {
      "image/png": "[encoded data removed]",
      "text/plain": [
       "<Figure size 432x288 with 1 Axes>"
      ]
     },
     "metadata": {
      "needs_background": "light"
     },
     "output_type": "display_data"
    },
    {
     "name": "stdout",
     "output_type": "stream",
     "text": [
      "There were 1963 male fighters and 188 female fighters in the UFC between 1994-2021\n"
     ]
    }
   ],
   "source": [
    "##Next, let's get the number of unique fighters across each gender\n",
    "#Get the number of unique fighters \n",
    "full_name_unique = ufc_master['Full_Name'].unique()\n",
    "# print(len(full_name_unique))\n",
    "\n",
    "male_fighters_unique = male_fights['Full_Name'].unique()\n",
    "# print(len(male_fighters_unique))\n",
    "\n",
    "female_fighters_unique = female_fights['Full_Name'].unique()\n",
    "# print(len(female_fighters_unique))\n",
    "\n",
    "#Store the count in a dictionary for easy visualization\n",
    "fighters_count_dict = {'Male': len(male_fighters_unique),'Female':len(female_fighters_unique)}\n",
    "names = list(fighters_count_dict.keys())\n",
    "values = list(fighters_count_dict.values())\n",
    "\n",
    "#Visualize the proportion of male fighters versus female fighters\n",
    "plt.bar(range(len(fighters_count_dict)), values, tick_label=names)\n",
    "plt.title(f'The number of fighters per gender between {min_date}-{max_date}')\n",
    "plt.ylabel('Number of Fighters')\n",
    "plt.show()\n",
    "\n",
    "print(f'There were {len(male_fighters_unique)} male fighters and {len(female_fighters_unique)} female fighters in the UFC between {min_date}-{max_date}')\n",
    "\n"
   ]
  },
  {
   "cell_type": "markdown",
   "id": "00b31afc",
   "metadata": {},
   "source": [
    "The huge difference between the proportion of fights across the male and female gender and the number of fighters across both divisions suggest that the UFC's MMA world is largely dominated by Men.\n",
    "\n",
    "I personally believe that this creates a massive opportunity for women to explore this area of sports, since their fight category is less populated and less competitive.\n",
    "\n",
    "To further investigate this, let's see the trend of fighters over the years."
   ]
  },
  {
   "cell_type": "code",
   "execution_count": 196,
   "id": "b3fb753e",
   "metadata": {},
   "outputs": [
    {
     "name": "stdout",
     "output_type": "stream",
     "text": [
      "0        2021\n",
      "1        2020\n",
      "2        2000\n",
      "3        2014\n",
      "4        2020\n",
      "         ... \n",
      "12151    2014\n",
      "12152    2016\n",
      "12153    2019\n",
      "12154    2015\n",
      "12155    2020\n",
      "Name: Year, Length: 12156, dtype: int64\n",
      "Year\n",
      "1994     58\n",
      "1995     68\n",
      "1996     72\n",
      "1997     78\n",
      "1998     42\n",
      "1999     88\n",
      "2000     86\n",
      "2001     80\n",
      "2002    106\n",
      "2003     82\n",
      "2004     78\n",
      "2005    160\n",
      "2006    316\n",
      "2007    342\n",
      "2008    402\n",
      "2009    430\n",
      "2010    506\n",
      "2011    600\n",
      "2012    682\n",
      "2013    740\n",
      "2014    944\n",
      "2015    858\n",
      "2016    882\n",
      "2017    788\n",
      "2018    802\n",
      "2019    848\n",
      "2020    750\n",
      "2021    298\n",
      "Name: Women_Category, dtype: int64\n",
      "Year\n",
      "2013     32\n",
      "2014     62\n",
      "2015     88\n",
      "2016    104\n",
      "2017    126\n",
      "2018    146\n",
      "2019    184\n",
      "2020    162\n",
      "2021     66\n",
      "Name: Women_Category, dtype: int64\n"
     ]
    },
    {
     "data": {
      "image/png": "[encoded data removed]",
      "text/plain": [
       "<Figure size 432x288 with 1 Axes>"
      ]
     },
     "metadata": {
      "needs_background": "light"
     },
     "output_type": "display_data"
    }
   ],
   "source": [
    "#Let's groupby Date and Women_Category\n",
    "print(ufc_master.Year)\n",
    "\n",
    "male_group = (male_fights.groupby('Year').Women_Category.count())\n",
    "plt.plot(male_group.index,male_group.values\t)\n",
    "print(male_group)\n",
    "# plt.clf()\n",
    "\n",
    "female_group = (female_fights.groupby('Year').Women_Category.count())\n",
    "plt.plot(female_group.index,female_group.values\t)\n",
    "plt.xlabel('Year')\n",
    "plt.ylabel('Number of Fights per Year')\n",
    "blue_patch = mpatches.Patch(color='xkcd:azure', label='Men')\n",
    "orange_patch = mpatches.Patch(color='orange', label='Women')\n",
    "plt.legend(handles=[blue_patch, orange_patch])\n",
    "print(female_group)"
   ]
  },
  {
   "cell_type": "code",
   "execution_count": 189,
   "id": "56f950e0",
   "metadata": {},
   "outputs": [],
   "source": [
    "# gaethje = ufc_master[(ufc_master['Full Name'] == 'Justin Gaethje')| (ufc_master['Fighter-2-Name'] == 'Justin Gaethje')]  \n",
    "# print(gaethje.info)\n",
    "#rename the women's bout catergory to Women_Category\n",
    "gaethje = ufc_master[(ufc_master['Full_Name'] == 'Justin Gaethje')]  "
   ]
  },
  {
   "cell_type": "code",
   "execution_count": null,
   "id": "63087af0",
   "metadata": {},
   "outputs": [],
   "source": [
    "\n",
    "\n"
   ]
  },
  {
   "cell_type": "markdown",
   "id": "856ec9f9",
   "metadata": {},
   "source": [
    "\n"
   ]
  },
  {
   "cell_type": "code",
   "execution_count": null,
   "id": "2f8fc620",
   "metadata": {},
   "outputs": [],
   "source": []
  }
 ],
 "metadata": {
  "kernelspec": {
   "display_name": "Python 3 (ipykernel)",
   "language": "python",
   "name": "python3"
  },
  "language_info": {
   "codemirror_mode": {
    "name": "ipython",
    "version": 3
   },
   "file_extension": ".py",
   "mimetype": "text/x-python",
   "name": "python",
   "nbconvert_exporter": "python",
   "pygments_lexer": "ipython3",
   "version": "3.10.5"
  }
 },
 "nbformat": 4,
 "nbformat_minor": 5
}
