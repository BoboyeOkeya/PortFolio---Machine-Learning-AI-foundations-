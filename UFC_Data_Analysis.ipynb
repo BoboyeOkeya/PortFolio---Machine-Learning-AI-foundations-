{
 "cells": [
  {
   "cell_type": "markdown",
   "id": "7184927f",
   "metadata": {},
   "source": [
    "# Explorative Data Analysis of a UFC Master Dataset\n",
    "\n",
    "### Description\n",
    "I developed this project to explore my explorative data analysis skillset in Python. The dataset is from [Kaggle: The Ultimate UFC Dataset](https://www.kaggle.com/datasets/bloodprashure/ufc-p4p-1-dataset?utm_medium=social&utm_campaign=kaggle-dataset-share&utm_source=twitter).\n",
    "\n",
    "As a UFC fight fan and a trained martial artist, I thought it would be exciting to explore this data to see what I will discover.\n",
    "\n",
    "I have a bunch of thesis questions that I would like to find out:\n",
    "\n",
    "## Things I would like to explore\n",
    "\n",
    "Make nice visualizations with humanoid shapes\n",
    "\n",
    "1. I want to categorize it into male and female\n",
    "2. What is the total number of unique fighters and what is their number win, loss and draw against their total number of fights\n",
    "3. For each unique fighter I want to know how many weight divisions they have fought\n",
    "4. How many fighters lost by disqualification and what was the reason\n",
    "5. I want to know how many submission attempts was required before the submission and what was the control time and the total fight time.\n",
    "6. I would like to know if overtime the amount of takedowns increases since as the fighters become tired, they tend to go for takedowns. Although not all fighters that increase their takedown attempt do it because they are tired. \n",
    "7. the countries versus titles\n",
    "\n"
   ]
  },
  {
   "cell_type": "markdown",
   "id": "79f4e9b6",
   "metadata": {},
   "source": [
    "### 1. The first step is to import all the useful libraries"
   ]
  },
  {
   "cell_type": "code",
   "execution_count": 1,
   "id": "25727a0e",
   "metadata": {},
   "outputs": [],
   "source": [
    "#Import all useful libraries\n",
    "import pandas as pd\n",
    "import matplotlib.pyplot as plt\n",
    "import matplotlib.patches as mpatches\n",
    "\n",
    "import seaborn as sns\n",
    "import numpy as np"
   ]
  },
  {
   "cell_type": "markdown",
   "id": "fc389042",
   "metadata": {},
   "source": [
    "### 2. Then read the dataset into python and view the head of the dataset"
   ]
  },
  {
   "cell_type": "code",
   "execution_count": 2,
   "id": "0a999037",
   "metadata": {},
   "outputs": [
    {
     "name": "stdout",
     "output_type": "stream",
     "text": [
      "Index(['Unnamed: 0', 'Date', 'Event-Code', 'Event-Name', 'Full Name',\n",
      "       'Fighter-2-Name', 'W', 'L', 'D', 'NC',\n",
      "       ...\n",
      "       'Round-5-Takedown-Percent', 'Round-5-Submission-Attempt',\n",
      "       'Round-5-Submission-Reverse', 'Round-5-Control-Time', 'Round-5-Head',\n",
      "       'Round-5-Body', 'Round-5-Leg', 'Round-5-Distance', 'Round-5-Clinch',\n",
      "       'Round-5-Ground'],\n",
      "      dtype='object', length=171)\n"
     ]
    },
    {
     "name": "stderr",
     "output_type": "stream",
     "text": [
      "C:\\Users\\okeya\\AppData\\Local\\Temp\\ipykernel_10676\\1303713221.py:2: DtypeWarning: Columns (20) have mixed types. Specify dtype option on import or set low_memory=False.\n",
      "  ufc_master = pd.read_csv('ufc-master.csv')\n"
     ]
    },
    {
     "data": {
      "text/html": [
       "<div>\n",
       "<style scoped>\n",
       "    .dataframe tbody tr th:only-of-type {\n",
       "        vertical-align: middle;\n",
       "    }\n",
       "\n",
       "    .dataframe tbody tr th {\n",
       "        vertical-align: top;\n",
       "    }\n",
       "\n",
       "    .dataframe thead th {\n",
       "        text-align: right;\n",
       "    }\n",
       "</style>\n",
       "<table border=\"1\" class=\"dataframe\">\n",
       "  <thead>\n",
       "    <tr style=\"text-align: right;\">\n",
       "      <th></th>\n",
       "      <th>Unnamed: 0</th>\n",
       "      <th>Date</th>\n",
       "      <th>Event-Code</th>\n",
       "      <th>Event-Name</th>\n",
       "      <th>Full Name</th>\n",
       "      <th>Fighter-2-Name</th>\n",
       "      <th>W</th>\n",
       "      <th>L</th>\n",
       "      <th>D</th>\n",
       "      <th>NC</th>\n",
       "      <th>...</th>\n",
       "      <th>Round-5-Takedown-Percent</th>\n",
       "      <th>Round-5-Submission-Attempt</th>\n",
       "      <th>Round-5-Submission-Reverse</th>\n",
       "      <th>Round-5-Control-Time</th>\n",
       "      <th>Round-5-Head</th>\n",
       "      <th>Round-5-Body</th>\n",
       "      <th>Round-5-Leg</th>\n",
       "      <th>Round-5-Distance</th>\n",
       "      <th>Round-5-Clinch</th>\n",
       "      <th>Round-5-Ground</th>\n",
       "    </tr>\n",
       "  </thead>\n",
       "  <tbody>\n",
       "    <tr>\n",
       "      <th>0</th>\n",
       "      <td>0</td>\n",
       "      <td>2021-03-06 00:00:00</td>\n",
       "      <td>6e2b1d631832921d</td>\n",
       "      <td>UFC 259: Blachowicz vs. Adesanya</td>\n",
       "      <td>Aalon Cruz</td>\n",
       "      <td>Uros Medic</td>\n",
       "      <td>0</td>\n",
       "      <td>1</td>\n",
       "      <td>0</td>\n",
       "      <td>0</td>\n",
       "      <td>...</td>\n",
       "      <td>0</td>\n",
       "      <td>0</td>\n",
       "      <td>0</td>\n",
       "      <td>NaN</td>\n",
       "      <td>NaN</td>\n",
       "      <td>NaN</td>\n",
       "      <td>NaN</td>\n",
       "      <td>NaN</td>\n",
       "      <td>NaN</td>\n",
       "      <td>NaN</td>\n",
       "    </tr>\n",
       "    <tr>\n",
       "      <th>1</th>\n",
       "      <td>1</td>\n",
       "      <td>2020-02-29 00:00:00</td>\n",
       "      <td>fc9a9559a05f2704</td>\n",
       "      <td>UFC Fight Night: Benavidez vs. Figueiredo</td>\n",
       "      <td>Aalon Cruz</td>\n",
       "      <td>Spike Carlyle</td>\n",
       "      <td>0</td>\n",
       "      <td>1</td>\n",
       "      <td>0</td>\n",
       "      <td>0</td>\n",
       "      <td>...</td>\n",
       "      <td>0</td>\n",
       "      <td>0</td>\n",
       "      <td>0</td>\n",
       "      <td>NaN</td>\n",
       "      <td>NaN</td>\n",
       "      <td>NaN</td>\n",
       "      <td>NaN</td>\n",
       "      <td>NaN</td>\n",
       "      <td>NaN</td>\n",
       "      <td>NaN</td>\n",
       "    </tr>\n",
       "    <tr>\n",
       "      <th>2</th>\n",
       "      <td>2</td>\n",
       "      <td>2000-11-17 00:00:00</td>\n",
       "      <td>da6dfd09cca1d705</td>\n",
       "      <td>UFC 28: High Stakes</td>\n",
       "      <td>Aaron Brink</td>\n",
       "      <td>Andrei Arlovski</td>\n",
       "      <td>0</td>\n",
       "      <td>1</td>\n",
       "      <td>0</td>\n",
       "      <td>0</td>\n",
       "      <td>...</td>\n",
       "      <td>0</td>\n",
       "      <td>0</td>\n",
       "      <td>0</td>\n",
       "      <td>NaN</td>\n",
       "      <td>NaN</td>\n",
       "      <td>NaN</td>\n",
       "      <td>NaN</td>\n",
       "      <td>NaN</td>\n",
       "      <td>NaN</td>\n",
       "      <td>NaN</td>\n",
       "    </tr>\n",
       "    <tr>\n",
       "      <th>3</th>\n",
       "      <td>3</td>\n",
       "      <td>2014-08-23 00:00:00</td>\n",
       "      <td>063649e21bc9d6d5</td>\n",
       "      <td>UFC Fight Night: Henderson vs Dos Anjos</td>\n",
       "      <td>Aaron Phillips</td>\n",
       "      <td>Matt Hobar</td>\n",
       "      <td>0</td>\n",
       "      <td>1</td>\n",
       "      <td>0</td>\n",
       "      <td>0</td>\n",
       "      <td>...</td>\n",
       "      <td>0</td>\n",
       "      <td>0</td>\n",
       "      <td>0</td>\n",
       "      <td>NaN</td>\n",
       "      <td>NaN</td>\n",
       "      <td>NaN</td>\n",
       "      <td>NaN</td>\n",
       "      <td>NaN</td>\n",
       "      <td>NaN</td>\n",
       "      <td>NaN</td>\n",
       "    </tr>\n",
       "    <tr>\n",
       "      <th>4</th>\n",
       "      <td>4</td>\n",
       "      <td>2020-07-15 00:00:00</td>\n",
       "      <td>18f5669a92e99d92</td>\n",
       "      <td>UFC Fight Night: Kattar vs. Ige</td>\n",
       "      <td>Aaron Phillips</td>\n",
       "      <td>Jack Shore</td>\n",
       "      <td>0</td>\n",
       "      <td>1</td>\n",
       "      <td>0</td>\n",
       "      <td>0</td>\n",
       "      <td>...</td>\n",
       "      <td>0</td>\n",
       "      <td>0</td>\n",
       "      <td>0</td>\n",
       "      <td>NaN</td>\n",
       "      <td>NaN</td>\n",
       "      <td>NaN</td>\n",
       "      <td>NaN</td>\n",
       "      <td>NaN</td>\n",
       "      <td>NaN</td>\n",
       "      <td>NaN</td>\n",
       "    </tr>\n",
       "  </tbody>\n",
       "</table>\n",
       "<p>5 rows × 171 columns</p>\n",
       "</div>"
      ],
      "text/plain": [
       "   Unnamed: 0                 Date        Event-Code  \\\n",
       "0           0  2021-03-06 00:00:00  6e2b1d631832921d   \n",
       "1           1  2020-02-29 00:00:00  fc9a9559a05f2704   \n",
       "2           2  2000-11-17 00:00:00  da6dfd09cca1d705   \n",
       "3           3  2014-08-23 00:00:00  063649e21bc9d6d5   \n",
       "4           4  2020-07-15 00:00:00  18f5669a92e99d92   \n",
       "\n",
       "                                  Event-Name       Full Name   Fighter-2-Name  \\\n",
       "0           UFC 259: Blachowicz vs. Adesanya      Aalon Cruz       Uros Medic   \n",
       "1  UFC Fight Night: Benavidez vs. Figueiredo      Aalon Cruz    Spike Carlyle   \n",
       "2                        UFC 28: High Stakes     Aaron Brink  Andrei Arlovski   \n",
       "3    UFC Fight Night: Henderson vs Dos Anjos  Aaron Phillips       Matt Hobar   \n",
       "4            UFC Fight Night: Kattar vs. Ige  Aaron Phillips       Jack Shore   \n",
       "\n",
       "   W  L  D  NC  ...  Round-5-Takedown-Percent  Round-5-Submission-Attempt  \\\n",
       "0  0  1  0   0  ...                         0                           0   \n",
       "1  0  1  0   0  ...                         0                           0   \n",
       "2  0  1  0   0  ...                         0                           0   \n",
       "3  0  1  0   0  ...                         0                           0   \n",
       "4  0  1  0   0  ...                         0                           0   \n",
       "\n",
       "   Round-5-Submission-Reverse  Round-5-Control-Time  Round-5-Head  \\\n",
       "0                           0                   NaN           NaN   \n",
       "1                           0                   NaN           NaN   \n",
       "2                           0                   NaN           NaN   \n",
       "3                           0                   NaN           NaN   \n",
       "4                           0                   NaN           NaN   \n",
       "\n",
       "   Round-5-Body  Round-5-Leg  Round-5-Distance  Round-5-Clinch  Round-5-Ground  \n",
       "0           NaN          NaN               NaN             NaN             NaN  \n",
       "1           NaN          NaN               NaN             NaN             NaN  \n",
       "2           NaN          NaN               NaN             NaN             NaN  \n",
       "3           NaN          NaN               NaN             NaN             NaN  \n",
       "4           NaN          NaN               NaN             NaN             NaN  \n",
       "\n",
       "[5 rows x 171 columns]"
      ]
     },
     "execution_count": 2,
     "metadata": {},
     "output_type": "execute_result"
    }
   ],
   "source": [
    "#read the csv file into pandas dataframe\n",
    "ufc_master = pd.read_csv('ufc-master.csv')\n",
    "\n",
    "#view the columns that are in the datafrane\n",
    "print(ufc_master.columns)\n",
    "\n",
    "#View the first 5 rows of the dataset\n",
    "ufc_master.head()"
   ]
  },
  {
   "cell_type": "markdown",
   "id": "28033d84",
   "metadata": {},
   "source": [
    "### 3. Drop some columns that are irrelevant to the thesis questions.\n",
    "\n",
    "I will be dropping the following columns from the ufc_master dataframe: \n",
    "event code, event name,fight city, fight state,ppv sales, age-days, judge-k-name,judge-k-score,Fight-Bonus, performance-Bonus, KO-Bonus, submission-Bonus, Fighter-Active-Status, Fight-City, Fight-State, Fight-Country, PPV-Sales. "
   ]
  },
  {
   "cell_type": "code",
   "execution_count": 3,
   "id": "5111bd00",
   "metadata": {},
   "outputs": [
    {
     "name": "stdout",
     "output_type": "stream",
     "text": [
      "Index(['Unnamed: 0', 'Date', 'Event-Code', 'Event-Name', 'Full Name',\n",
      "       'Fighter-2-Name', 'W', 'L', 'D', 'NC',\n",
      "       ...\n",
      "       'Round-5-Takedown-Percent', 'Round-5-Submission-Attempt',\n",
      "       'Round-5-Submission-Reverse', 'Round-5-Control-Time', 'Round-5-Head',\n",
      "       'Round-5-Body', 'Round-5-Leg', 'Round-5-Distance', 'Round-5-Clinch',\n",
      "       'Round-5-Ground'],\n",
      "      dtype='object', length=171)\n",
      "Index(['Unnamed: 0', 'Date', 'Full Name', 'Fighter-2-Name', 'W', 'L', 'D',\n",
      "       'NC', 'KO/TKO', 'Submission',\n",
      "       ...\n",
      "       'Round-5-Takedown-Percent', 'Round-5-Submission-Attempt',\n",
      "       'Round-5-Submission-Reverse', 'Round-5-Control-Time', 'Round-5-Head',\n",
      "       'Round-5-Body', 'Round-5-Leg', 'Round-5-Distance', 'Round-5-Clinch',\n",
      "       'Round-5-Ground'],\n",
      "      dtype='object', length=154)\n"
     ]
    }
   ],
   "source": [
    "columns_to_drop = ['Event-Code','Event-Name','Judge-1-Name','Judge-1-Score','Judge-2-Name','Judge-2-Score','Judge-3-Name','Judge-3-Score'\\\n",
    "                   ,'Fight-Bonus','Performance-Bonus','KO-Bonus','Submission-Bonus'\\\n",
    "                   ,'Fighter-Active-Status','Fight-City','Fight-State','Fight-Country'\\\n",
    "                   ,'PPV-Sales']\n",
    "print((ufc_master.columns))\n",
    "ufc_master.drop(columns_to_drop,axis=1,inplace=True)\n",
    "print((ufc_master.columns))\n",
    "#WOmen weight classes = ['Featherweight', 'bantamweight','flyweight','straweight']\n",
    "#Men = ['Heavyweight','light heavyweight','middleweight','welterweight','lightweight', 'featherweight','bantamweight','Flyweight']\n"
   ]
  },
  {
   "cell_type": "markdown",
   "id": "fbcd62d1",
   "metadata": {},
   "source": [
    "### 4. Next, rename some of the dataframe's column name for easy access"
   ]
  },
  {
   "cell_type": "code",
   "execution_count": 4,
   "id": "3a668028",
   "metadata": {},
   "outputs": [
    {
     "name": "stdout",
     "output_type": "stream",
     "text": [
      "   Index                 Date       Full_Name        Fighter_2  W  L  D  NC  \\\n",
      "0      0  2021-03-06 00:00:00      Aalon Cruz       Uros Medic  0  1  0   0   \n",
      "1      1  2020-02-29 00:00:00      Aalon Cruz    Spike Carlyle  0  1  0   0   \n",
      "2      2  2000-11-17 00:00:00     Aaron Brink  Andrei Arlovski  0  1  0   0   \n",
      "3      3  2014-08-23 00:00:00  Aaron Phillips       Matt Hobar  0  1  0   0   \n",
      "4      4  2020-07-15 00:00:00  Aaron Phillips       Jack Shore  0  1  0   0   \n",
      "\n",
      "   KO_TKO  Submission  ...  Round-5-Takedown-Percent  \\\n",
      "0       1           0  ...                         0   \n",
      "1       1           0  ...                         0   \n",
      "2       0           1  ...                         0   \n",
      "3       0           0  ...                         0   \n",
      "4       0           1  ...                         0   \n",
      "\n",
      "   Round-5-Submission-Attempt  Round-5-Submission-Reverse  \\\n",
      "0                           0                           0   \n",
      "1                           0                           0   \n",
      "2                           0                           0   \n",
      "3                           0                           0   \n",
      "4                           0                           0   \n",
      "\n",
      "   Round-5-Control-Time  Round-5-Head  Round-5-Body  Round-5-Leg  \\\n",
      "0                   NaN           NaN           NaN          NaN   \n",
      "1                   NaN           NaN           NaN          NaN   \n",
      "2                   NaN           NaN           NaN          NaN   \n",
      "3                   NaN           NaN           NaN          NaN   \n",
      "4                   NaN           NaN           NaN          NaN   \n",
      "\n",
      "   Round-5-Distance Round-5-Clinch Round-5-Ground  \n",
      "0               NaN            NaN            NaN  \n",
      "1               NaN            NaN            NaN  \n",
      "2               NaN            NaN            NaN  \n",
      "3               NaN            NaN            NaN  \n",
      "4               NaN            NaN            NaN  \n",
      "\n",
      "[5 rows x 154 columns]\n"
     ]
    },
    {
     "data": {
      "text/plain": [
       "Index(['Index', 'Date', 'Full_Name', 'Fighter_2', 'W', 'L', 'D', 'NC',\n",
       "       'KO_TKO', 'Submission',\n",
       "       ...\n",
       "       'Round-5-Takedown-Percent', 'Round-5-Submission-Attempt',\n",
       "       'Round-5-Submission-Reverse', 'Round-5-Control-Time', 'Round-5-Head',\n",
       "       'Round-5-Body', 'Round-5-Leg', 'Round-5-Distance', 'Round-5-Clinch',\n",
       "       'Round-5-Ground'],\n",
       "      dtype='object', length=154)"
      ]
     },
     "execution_count": 4,
     "metadata": {},
     "output_type": "execute_result"
    }
   ],
   "source": [
    "columns_to_rename = {'Unnamed: 0':'Index','Women\\'s-Bout':'Women_Category','Full Name':'Full_Name','Fighter-2-Name':'Fighter_2'\\\n",
    "                    ,'KO/TKO':'KO_TKO','TKO - Doctor\\'s Stoppage':'TKO_Doctor_Stoppage'}\n",
    "ufc_master.rename(columns=columns_to_rename,inplace=True)\n",
    "# ufc_master.set_index('Index',inplace=True)\n",
    "print(ufc_master.head())\n",
    "ufc_master.columns"
   ]
  },
  {
   "cell_type": "markdown",
   "id": "b21c98a6",
   "metadata": {},
   "source": [
    "### 5. Now, we need to seperate the fighters into the male and female categories\n",
    "\n",
    "The Women_Category column is useful for this process"
   ]
  },
  {
   "cell_type": "code",
   "execution_count": 5,
   "id": "529c0a40",
   "metadata": {},
   "outputs": [
    {
     "name": "stdout",
     "output_type": "stream",
     "text": [
      "<class 'pandas.core.series.Series'>\n",
      "RangeIndex: 12156 entries, 0 to 12155\n",
      "Series name: Full_Name\n",
      "Non-Null Count  Dtype \n",
      "--------------  ----- \n",
      "12156 non-null  object\n",
      "dtypes: object(1)\n",
      "memory usage: 95.1+ KB\n",
      "None\n",
      "11192\n",
      "964\n",
      "12156\n",
      "1994 2021\n"
     ]
    },
    {
     "data": {
      "image/png": "[encoded data removed]",
      "text/plain": [
       "<Figure size 432x288 with 1 Axes>"
      ]
     },
     "metadata": {
      "needs_background": "light"
     },
     "output_type": "display_data"
    },
    {
     "name": "stdout",
     "output_type": "stream",
     "text": [
      "Between 1994-2021, Male fights account for 92.07% of the whole UFC Fights, while female fights account for only 7.93% \n",
      "Between 1994-2021, Male fights account for 92.02% of the whole UFC Fights, while female fights account for only 7.98% \n"
     ]
    }
   ],
   "source": [
    "#First Let's Seperate the male and female fights\n",
    "\n",
    "male_fights = ufc_master[ufc_master['Women_Category'] ==0]\n",
    "female_fights = ufc_master[ufc_master['Women_Category'] ==1]\n",
    "print(ufc_master['Full_Name'].info())\n",
    "print(len(male_fights))\n",
    "print(len(female_fights))\n",
    "print(len(ufc_master))\n",
    "\n",
    "#Convert date to datetime using pandas\n",
    "ufc_master['Date'] = pd.to_datetime(ufc_master['Date'])\n",
    "# print(ufc_master['Date'].head())\n",
    "# print(ufc_master.Date.dt.day.head())\n",
    "# print(ufc_master.Date.dt.month.head())\n",
    "# print(ufc_master.Date.dt.year.head())\n",
    "min_date = ufc_master['Date'].dt.year.min()\n",
    "max_date = ufc_master['Date'].dt.year.max()\n",
    "\n",
    "print(min_date,max_date)\n",
    "\n",
    "#Visualize the proportion of male fights versus female fights\n",
    "sns.countplot(data=ufc_master,x='Women_Category')\n",
    "plt.title(f'The number of fights per gender between {min_date}-{max_date}')\n",
    "blue_patch = mpatches.Patch(color='xkcd:azure', label='0:Men')\n",
    "orange_patch = mpatches.Patch(color='orange', label='1:Women')\n",
    "plt.ylabel('Total Number of Fights')\n",
    "plt.xlabel('Gender')\n",
    "plt.legend(handles=[blue_patch, orange_patch])\n",
    "plt.show()\n",
    "\n",
    "print(f'Between {min_date}-{max_date}, Male fights account for {round(100*len(male_fights)/len(ufc_master),3)}% of the whole UFC Fights, while female fights account for only {round(100*len(female_fights)/len(ufc_master),3)}% ')\n",
    "\n",
    "#compensating for the 6 mislabelled Women_Category at indices = [444, 2349, 2352, 7066, 7098, 10388] \n",
    "print(f'Between {min_date}-{max_date}, Male fights account for {round(100*(len(male_fights)-6)/len(ufc_master),3)}% of the whole UFC Fights, while female fights account for only {round(100*(len(female_fights)+6)/len(ufc_master),3)}% ')"
   ]
  },
  {
   "cell_type": "code",
   "execution_count": 6,
   "id": "edc05554",
   "metadata": {},
   "outputs": [
    {
     "name": "stdout",
     "output_type": "stream",
     "text": [
      "2151\n",
      "2151\n",
      "2151\n",
      "1968\n",
      "188\n",
      "Sarah Moras\n",
      "Alexis Dufresne\n",
      "Cristiane Justino\n",
      "Leslie Smith\n",
      "Lina Lansberg\n",
      "       Index       Date    Full_Name        Fighter_2  W  L  D  NC  KO_TKO  \\\n",
      "10388  10388 2014-07-06  Sarah Moras  Alexis Dufresne  1  0  0   0       0   \n",
      "\n",
      "       Submission  ...  Round-5-Takedown-Percent  Round-5-Submission-Attempt  \\\n",
      "10388           0  ...                         0                           0   \n",
      "\n",
      "       Round-5-Submission-Reverse  Round-5-Control-Time  Round-5-Head  \\\n",
      "10388                           0                   NaN           NaN   \n",
      "\n",
      "       Round-5-Body  Round-5-Leg  Round-5-Distance Round-5-Clinch  \\\n",
      "10388           NaN          NaN               NaN            NaN   \n",
      "\n",
      "      Round-5-Ground  \n",
      "10388            NaN  \n",
      "\n",
      "[1 rows x 154 columns]\n",
      "10388    0\n",
      "Name: Women_Category, dtype: int64\n"
     ]
    },
    {
     "data": {
      "text/plain": [
       "{444, 2349, 2352, 7066, 7098, 10388}"
      ]
     },
     "execution_count": 6,
     "metadata": {},
     "output_type": "execute_result"
    }
   ],
   "source": [
    "## Next, let's get the number of unique fighters across each gender\n",
    "\n",
    "#Get the number of unique fighters \n",
    "full_name_unique = ufc_master['Full_Name'].unique()\n",
    "fighter_2_unique = ufc_master['Fighter_2'].unique()\n",
    "\n",
    "#combine both in a set\n",
    "set1 = set(full_name_unique)\n",
    "set2 = set(fighter_2_unique)\n",
    "set_union = set1.union(set2)\n",
    "print(len(set1))\n",
    "print(len(set2))\n",
    "print(len(set_union))\n",
    "\n",
    "\n",
    "male_fighters_unique1 = male_fights['Full_Name'].unique()\n",
    "male_fighters_unique2 = male_fights['Fighter_2'].unique()\n",
    "\n",
    "set1_male = set(male_fighters_unique1)\n",
    "set2_male = set(male_fighters_unique2)\n",
    "set_male = set1_male.union(set2_male)\n",
    "print(len(set2_male))\n",
    "\n",
    "female_fighters_unique1 = female_fights['Full_Name'].unique()\n",
    "female_fighters_unique2 = female_fights['Fighter_2'].unique()\n",
    "\n",
    "set1_female = set(female_fighters_unique1)\n",
    "set2_female = set(female_fighters_unique2)\n",
    "set_female = set1_female.union(set2_female)\n",
    "print(len(set2_female))\n",
    "\n",
    "set_male_female = set_male.intersection(set_female)\n",
    "for name in set_male_female:\n",
    "    if(name in set_female):\n",
    "        print(name)\n",
    "# print((set_male_female))\n",
    "\n",
    "\n",
    "extract = ufc_master[ufc_master['Index']==10388]\n",
    "print(extract)\n",
    "print(extract.Women_Category)\n",
    "\n",
    "#The following row has its women_Category mislabelled, normally 0 is for male and 1 is for male\n",
    "#Sarah Moras = [968,5367,7089,7176,7320,10389,10390,10391,10392,10393,10394,10395,10396]\n",
    "#[10677,10954,11649]\n",
    "\n",
    "#Sarh Moras labeled 0 = [444,10388]\n",
    "\n",
    "#Leslie Smith\n",
    "#[523,4737,5339,5389,7063,7064,7065,7067,7068,7069,9795,10387, ]\n",
    "#leslie labelled 0 [2349,7066]\n",
    "#Lina Lansberg\n",
    "#[988,4332,7092,7093,7094,7095,7096,7097,7099,7175,7318,10372,11460,11939]\n",
    "#Lina labelled 0 [2352,7098]\n",
    "#Cristiane Justino labelled 0 [2349,2352,7066,7098]\n",
    "#Alexis Dufresne labelled 0 [444,10388]\n",
    "\n",
    "#Some of the women_category has been mislabelled as 0, they should be 1\n",
    "mislabel_women_category = set([444,10388,2349,7066,2352,7098,2349,2352,7066,7098,444,10388])\n",
    "mislabel_women_category"
   ]
  },
  {
   "cell_type": "markdown",
   "id": "00b31afc",
   "metadata": {},
   "source": [
    "The huge difference between the proportion of fights across the male and female gender suggests that the UFC's MMA world is largely dominated by Men.\n",
    "\n",
    "I personally believe that this creates a massive opportunity for women to explore this area of sports, since their fight category is less populated and less competitive"
   ]
  },
  {
   "cell_type": "code",
   "execution_count": 7,
   "id": "56f950e0",
   "metadata": {},
   "outputs": [
    {
     "name": "stdout",
     "output_type": "stream",
     "text": [
      "11192\n",
      "964\n",
      "\n"
     ]
    }
   ],
   "source": [
    "# gaethje = ufc_master[(ufc_master['Full Name'] == 'Justin Gaethje')| (ufc_master['Fighter-2-Name'] == 'Justin Gaethje')]  \n",
    "# print(gaethje.info)\n",
    "#rename the women's bout catergory to Women_Category\n",
    "gaethje = ufc_master[(ufc_master['Full_Name'] == 'Justin Gaethje')]  \n",
    "\n",
    "\n",
    "#Seperate the male and female fighters\n",
    "male_fights = ufc_master[ufc_master['Women_Category'] ==0]\n",
    "female_fights = ufc_master[ufc_master['Women_Category'] ==1]\n",
    "print(len(male_fights))\n",
    "print(len(female_fights))\n",
    "print()"
   ]
  },
  {
   "cell_type": "code",
   "execution_count": null,
   "id": "63087af0",
   "metadata": {},
   "outputs": [],
   "source": [
    "\n",
    "\n"
   ]
  },
  {
   "cell_type": "markdown",
   "id": "856ec9f9",
   "metadata": {},
   "source": [
    "\n"
   ]
  },
  {
   "cell_type": "code",
   "execution_count": null,
   "id": "2f8fc620",
   "metadata": {},
   "outputs": [],
   "source": []
  }
 ],
 "metadata": {
  "kernelspec": {
   "display_name": "Python 3 (ipykernel)",
   "language": "python",
   "name": "python3"
  },
  "language_info": {
   "codemirror_mode": {
    "name": "ipython",
    "version": 3
   },
   "file_extension": ".py",
   "mimetype": "text/x-python",
   "name": "python",
   "nbconvert_exporter": "python",
   "pygments_lexer": "ipython3",
   "version": "3.10.5"
  }
 },
 "nbformat": 4,
 "nbformat_minor": 5
}
